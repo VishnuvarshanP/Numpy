{
  "nbformat": 4,
  "nbformat_minor": 0,
  "metadata": {
    "colab": {
      "name": "Numpy.ipynb",
      "provenance": [],
      "collapsed_sections": []
    },
    "kernelspec": {
      "name": "python3",
      "display_name": "Python 3"
    },
    "language_info": {
      "name": "python"
    }
  },
  "cells": [
    {
      "cell_type": "code",
      "metadata": {
        "id": "KJgxGFaMlkVb"
      },
      "source": [
        "import numpy as np"
      ],
      "execution_count": 24,
      "outputs": []
    },
    {
      "cell_type": "code",
      "metadata": {
        "colab": {
          "base_uri": "https://localhost:8080/"
        },
        "id": "D18BqjzXl5Ac",
        "outputId": "965ca319-98a8-49b4-e218-8e470832a012"
      },
      "source": [
        "#Creating numpy array\n",
        "np.array([1,2,3,4,5,6])"
      ],
      "execution_count": 2,
      "outputs": [
        {
          "output_type": "execute_result",
          "data": {
            "text/plain": [
              "array([1, 2, 3, 4, 5, 6])"
            ]
          },
          "metadata": {},
          "execution_count": 2
        }
      ]
    },
    {
      "cell_type": "code",
      "metadata": {
        "id": "lfChXrs6m8-r"
      },
      "source": [
        "a = np.array([1,2,3,4,5,6])"
      ],
      "execution_count": 3,
      "outputs": []
    },
    {
      "cell_type": "code",
      "metadata": {
        "colab": {
          "base_uri": "https://localhost:8080/"
        },
        "id": "hVeu0BRnnDXh",
        "outputId": "6b75efcd-e377-4bb5-d4f7-4ed07275ba82"
      },
      "source": [
        "type(a)"
      ],
      "execution_count": 4,
      "outputs": [
        {
          "output_type": "execute_result",
          "data": {
            "text/plain": [
              "numpy.ndarray"
            ]
          },
          "metadata": {},
          "execution_count": 4
        }
      ]
    },
    {
      "cell_type": "code",
      "metadata": {
        "id": "XVmg5-zznEM2"
      },
      "source": [
        "import array as ar"
      ],
      "execution_count": 5,
      "outputs": []
    },
    {
      "cell_type": "code",
      "metadata": {
        "colab": {
          "base_uri": "https://localhost:8080/"
        },
        "id": "2uIowDZfozUf",
        "outputId": "32beeb23-c681-4167-bd6b-d2b4fe29bb29"
      },
      "source": [
        "ar.array('i',[1,2,3,4,5]) #not useful in data manipulation"
      ],
      "execution_count": 8,
      "outputs": [
        {
          "output_type": "execute_result",
          "data": {
            "text/plain": [
              "array('i', [1, 2, 3, 4, 5])"
            ]
          },
          "metadata": {},
          "execution_count": 8
        }
      ]
    },
    {
      "cell_type": "code",
      "metadata": {
        "colab": {
          "base_uri": "https://localhost:8080/"
        },
        "id": "sG8BTxPTo1fz",
        "outputId": "316db18f-913f-4164-dce8-41e925e6ad77"
      },
      "source": [
        "np.array([1,34,56,67,'vishnu'])"
      ],
      "execution_count": 10,
      "outputs": [
        {
          "output_type": "execute_result",
          "data": {
            "text/plain": [
              "array(['1', '34', '56', '67', 'vishnu'], dtype='<U21')"
            ]
          },
          "metadata": {},
          "execution_count": 10
        }
      ]
    },
    {
      "cell_type": "code",
      "metadata": {
        "colab": {
          "base_uri": "https://localhost:8080/"
        },
        "id": "NpoHj_IFpn53",
        "outputId": "29f70e4b-5725-4f0f-eaa0-d4f32110745e"
      },
      "source": [
        "np.array([1,34,56,67],ndmin=3) #3D"
      ],
      "execution_count": 13,
      "outputs": [
        {
          "output_type": "execute_result",
          "data": {
            "text/plain": [
              "array([[[ 1, 34, 56, 67]]])"
            ]
          },
          "metadata": {},
          "execution_count": 13
        }
      ]
    },
    {
      "cell_type": "code",
      "metadata": {
        "colab": {
          "base_uri": "https://localhost:8080/"
        },
        "id": "kJH0rL4JpyDP",
        "outputId": "d03d47aa-c70e-4d54-ddce-a454d3853e7a"
      },
      "source": [
        "np.array([1,34,56,67],ndmin=2) #2D"
      ],
      "execution_count": 14,
      "outputs": [
        {
          "output_type": "execute_result",
          "data": {
            "text/plain": [
              "array([[ 1, 34, 56, 67]])"
            ]
          },
          "metadata": {},
          "execution_count": 14
        }
      ]
    },
    {
      "cell_type": "code",
      "metadata": {
        "colab": {
          "base_uri": "https://localhost:8080/"
        },
        "id": "YiyM-NGRp76K",
        "outputId": "3cf6e7ff-5485-4a04-b75e-69330fe4bec2"
      },
      "source": [
        "np.array([1,34,56,67],ndmin=1) #1D"
      ],
      "execution_count": 15,
      "outputs": [
        {
          "output_type": "execute_result",
          "data": {
            "text/plain": [
              "array([ 1, 34, 56, 67])"
            ]
          },
          "metadata": {},
          "execution_count": 15
        }
      ]
    },
    {
      "cell_type": "code",
      "metadata": {
        "colab": {
          "base_uri": "https://localhost:8080/"
        },
        "id": "9hga3rw6qE4x",
        "outputId": "37a9ceef-e7fb-4838-ab8c-f58829eebeca"
      },
      "source": [
        "np.array([1,34,56,67],ndmin=0) #1D and 0D is same"
      ],
      "execution_count": 16,
      "outputs": [
        {
          "output_type": "execute_result",
          "data": {
            "text/plain": [
              "array([ 1, 34, 56, 67])"
            ]
          },
          "metadata": {},
          "execution_count": 16
        }
      ]
    },
    {
      "cell_type": "code",
      "metadata": {
        "colab": {
          "base_uri": "https://localhost:8080/"
        },
        "id": "EFiLDHF1qExT",
        "outputId": "2c3266f7-947d-47d4-9d70-b4f1dd8da7b1"
      },
      "source": [
        "np.array([[1,2,3],[4,5,6]])"
      ],
      "execution_count": 18,
      "outputs": [
        {
          "output_type": "execute_result",
          "data": {
            "text/plain": [
              "array([[1, 2, 3],\n",
              "       [4, 5, 6]])"
            ]
          },
          "metadata": {},
          "execution_count": 18
        }
      ]
    },
    {
      "cell_type": "code",
      "metadata": {
        "colab": {
          "base_uri": "https://localhost:8080/"
        },
        "id": "12nTcec-qEod",
        "outputId": "5cb57e9c-6de5-4c4b-899b-54be86fc2b5e"
      },
      "source": [
        "np.array([[[1,2,3],[4,5,6]],[[1,2,3],[4,5,6]]]) #3D data  #front plane, back plane\n"
      ],
      "execution_count": 23,
      "outputs": [
        {
          "output_type": "execute_result",
          "data": {
            "text/plain": [
              "array([[[1, 2, 3],\n",
              "        [4, 5, 6]],\n",
              "\n",
              "       [[1, 2, 3],\n",
              "        [4, 5, 6]]])"
            ]
          },
          "metadata": {},
          "execution_count": 23
        }
      ]
    },
    {
      "cell_type": "code",
      "metadata": {
        "id": "m-dEqdsiqEKS"
      },
      "source": [
        "a = np.array([5,6,7])"
      ],
      "execution_count": 27,
      "outputs": []
    },
    {
      "cell_type": "code",
      "metadata": {
        "colab": {
          "base_uri": "https://localhost:8080/"
        },
        "id": "uqPw8hBJtm9j",
        "outputId": "08c54064-ab3f-4d16-813a-16e7ab99563f"
      },
      "source": [
        "type(a)"
      ],
      "execution_count": 28,
      "outputs": [
        {
          "output_type": "execute_result",
          "data": {
            "text/plain": [
              "numpy.ndarray"
            ]
          },
          "metadata": {},
          "execution_count": 28
        }
      ]
    },
    {
      "cell_type": "code",
      "metadata": {
        "colab": {
          "base_uri": "https://localhost:8080/"
        },
        "id": "UpCkrOuUqCGz",
        "outputId": "fa83e225-b583-478e-8964-de24bbb7e3ea"
      },
      "source": [
        "np.array([4.7,5,6,7],dtype=complex)"
      ],
      "execution_count": 32,
      "outputs": [
        {
          "output_type": "execute_result",
          "data": {
            "text/plain": [
              "array([4.7+0.j, 5. +0.j, 6. +0.j, 7. +0.j])"
            ]
          },
          "metadata": {},
          "execution_count": 32
        }
      ]
    },
    {
      "cell_type": "code",
      "metadata": {
        "colab": {
          "base_uri": "https://localhost:8080/"
        },
        "id": "osMIHjBcJLFL",
        "outputId": "8cfe13d4-2bc9-41ec-f472-1d85c808f535"
      },
      "source": [
        "np.array([4,5,6,7],dtype=str)   #<U strings"
      ],
      "execution_count": 31,
      "outputs": [
        {
          "output_type": "execute_result",
          "data": {
            "text/plain": [
              "array(['4', '5', '6', '7'], dtype='<U1')"
            ]
          },
          "metadata": {},
          "execution_count": 31
        }
      ]
    },
    {
      "cell_type": "code",
      "metadata": {
        "colab": {
          "base_uri": "https://localhost:8080/"
        },
        "id": "AzSYmFtqJQMo",
        "outputId": "24b5fe52-b383-4d75-88ee-e5a4d04d28a7"
      },
      "source": [
        "type(np.array([4,5,6,7]))"
      ],
      "execution_count": 33,
      "outputs": [
        {
          "output_type": "execute_result",
          "data": {
            "text/plain": [
              "numpy.ndarray"
            ]
          },
          "metadata": {},
          "execution_count": 33
        }
      ]
    },
    {
      "cell_type": "code",
      "metadata": {
        "colab": {
          "base_uri": "https://localhost:8080/"
        },
        "id": "7N9TzhzrKZw9",
        "outputId": "c8ffed9b-b6e1-435a-cf02-18164627b7d1"
      },
      "source": [
        "np.asarray([4,5,6,7],dtype=float)"
      ],
      "execution_count": 35,
      "outputs": [
        {
          "output_type": "execute_result",
          "data": {
            "text/plain": [
              "array([4., 5., 6., 7.])"
            ]
          },
          "metadata": {},
          "execution_count": 35
        }
      ]
    },
    {
      "cell_type": "code",
      "metadata": {
        "colab": {
          "base_uri": "https://localhost:8080/"
        },
        "id": "Dfaw_lhaKZtn",
        "outputId": "068ba6f1-bba5-4606-e153-1d251214b383"
      },
      "source": [
        "np.asarray([4,5,6,7],dtype=np.float)"
      ],
      "execution_count": 36,
      "outputs": [
        {
          "output_type": "execute_result",
          "data": {
            "text/plain": [
              "array([4., 5., 6., 7.])"
            ]
          },
          "metadata": {},
          "execution_count": 36
        }
      ]
    },
    {
      "cell_type": "code",
      "metadata": {
        "id": "Ng58mQrIKZqW"
      },
      "source": [
        "mat = np.matrix([5,6])"
      ],
      "execution_count": 40,
      "outputs": []
    },
    {
      "cell_type": "code",
      "metadata": {
        "colab": {
          "base_uri": "https://localhost:8080/"
        },
        "id": "NW-EUUXqKZm3",
        "outputId": "8ab55c7b-e534-4fb6-9bb5-87a7a5b02431"
      },
      "source": [
        "mat"
      ],
      "execution_count": 41,
      "outputs": [
        {
          "output_type": "execute_result",
          "data": {
            "text/plain": [
              "matrix([[5, 6]])"
            ]
          },
          "metadata": {},
          "execution_count": 41
        }
      ]
    },
    {
      "cell_type": "code",
      "metadata": {
        "colab": {
          "base_uri": "https://localhost:8080/"
        },
        "id": "JsHtuX0FNgnE",
        "outputId": "5dda4707-af0a-4954-923c-1009e191b02e"
      },
      "source": [
        "type(mat)"
      ],
      "execution_count": 42,
      "outputs": [
        {
          "output_type": "execute_result",
          "data": {
            "text/plain": [
              "numpy.matrix"
            ]
          },
          "metadata": {},
          "execution_count": 42
        }
      ]
    },
    {
      "cell_type": "code",
      "metadata": {
        "colab": {
          "base_uri": "https://localhost:8080/"
        },
        "id": "HWZUYD53KZFI",
        "outputId": "6f8e21b3-7ec6-47fd-b878-a9fc337e49e3"
      },
      "source": [
        "np.asanyarray(mat) #already mat is in a form of array. so no conversion needed."
      ],
      "execution_count": 43,
      "outputs": [
        {
          "output_type": "execute_result",
          "data": {
            "text/plain": [
              "matrix([[5, 6]])"
            ]
          },
          "metadata": {},
          "execution_count": 43
        }
      ]
    },
    {
      "cell_type": "code",
      "metadata": {
        "colab": {
          "base_uri": "https://localhost:8080/"
        },
        "id": "05lb0VD2KRMY",
        "outputId": "d6f3efd6-1276-43ad-cfa3-e287153b094a"
      },
      "source": [
        "l = [1,2,3,4]\n",
        "np.asanyarray(l) # l is not in form of array. so converted into array."
      ],
      "execution_count": 44,
      "outputs": [
        {
          "output_type": "execute_result",
          "data": {
            "text/plain": [
              "array([1, 2, 3, 4])"
            ]
          },
          "metadata": {},
          "execution_count": 44
        }
      ]
    },
    {
      "cell_type": "code",
      "metadata": {
        "colab": {
          "base_uri": "https://localhost:8080/"
        },
        "id": "sJex-HEvLO3m",
        "outputId": "7c07476e-de92-4947-c5e3-16ddaa8372a3"
      },
      "source": [
        "np.fromfunction(lambda i,j : i*j,(3,3)) #own custom function to create array\n",
        "\n",
        "#  0  1  2\n",
        "#0 0  0  0\n",
        "#1 0  1  2\n",
        "#2 0  2  4 "
      ],
      "execution_count": 48,
      "outputs": [
        {
          "output_type": "execute_result",
          "data": {
            "text/plain": [
              "array([[0., 0., 0.],\n",
              "       [0., 1., 2.],\n",
              "       [0., 2., 4.]])"
            ]
          },
          "metadata": {},
          "execution_count": 48
        }
      ]
    },
    {
      "cell_type": "code",
      "metadata": {
        "colab": {
          "base_uri": "https://localhost:8080/"
        },
        "id": "vzxDjQv8LOyq",
        "outputId": "39b40c09-6290-4974-ddfe-99b399e949c9"
      },
      "source": [
        "np.fromfunction(lambda i,j : i==j,(3,3))\n",
        "\n",
        "\n",
        "#  0  1  2\n",
        "#0 T  F  F\n",
        "#1 F  T  F\n",
        "#2 F  F  T"
      ],
      "execution_count": 49,
      "outputs": [
        {
          "output_type": "execute_result",
          "data": {
            "text/plain": [
              "array([[ True, False, False],\n",
              "       [False,  True, False],\n",
              "       [False, False,  True]])"
            ]
          },
          "metadata": {},
          "execution_count": 49
        }
      ]
    },
    {
      "cell_type": "code",
      "metadata": {
        "colab": {
          "base_uri": "https://localhost:8080/"
        },
        "id": "AGpXr1yPLOtK",
        "outputId": "301e9ec9-5ec9-4e18-d04c-2c4a893f8b35"
      },
      "source": [
        "np.fromfunction(lambda i,j: i**i,(3,3),dtype=int)\n"
      ],
      "execution_count": 55,
      "outputs": [
        {
          "output_type": "execute_result",
          "data": {
            "text/plain": [
              "array([[1, 1, 1],\n",
              "       [1, 1, 1],\n",
              "       [4, 4, 4]])"
            ]
          },
          "metadata": {},
          "execution_count": 55
        }
      ]
    },
    {
      "cell_type": "code",
      "metadata": {
        "colab": {
          "base_uri": "https://localhost:8080/"
        },
        "id": "WOid3tmdQhIe",
        "outputId": "2a1db61c-f128-4ab2-e980-057db1615c12"
      },
      "source": [
        "np.fromstring('11 22 33',sep=\" \") #for numerical strings"
      ],
      "execution_count": 60,
      "outputs": [
        {
          "output_type": "execute_result",
          "data": {
            "text/plain": [
              "array([11., 22., 33.])"
            ]
          },
          "metadata": {},
          "execution_count": 60
        }
      ]
    },
    {
      "cell_type": "code",
      "metadata": {
        "colab": {
          "base_uri": "https://localhost:8080/"
        },
        "id": "RWLMfHOzLOnA",
        "outputId": "efda4f9a-fbdc-43a1-e07a-0708085f9f5d"
      },
      "source": [
        "np.fromstring('4,5,5,2,5',sep=\",\")"
      ],
      "execution_count": 61,
      "outputs": [
        {
          "output_type": "execute_result",
          "data": {
            "text/plain": [
              "array([4., 5., 5., 2., 5.])"
            ]
          },
          "metadata": {},
          "execution_count": 61
        }
      ]
    },
    {
      "cell_type": "markdown",
      "metadata": {
        "id": "6HVGgG99RLhM"
      },
      "source": [
        "We will only utilize 5 - 10 functions in numpy in real world"
      ]
    },
    {
      "cell_type": "code",
      "metadata": {
        "id": "KENRQm2hLOhR"
      },
      "source": [
        "b1=np.array([5,6,7,8,9])"
      ],
      "execution_count": 62,
      "outputs": []
    },
    {
      "cell_type": "code",
      "metadata": {
        "id": "htgMI8lCLOa2"
      },
      "source": [
        "b2 = np.array([[4,5,6,7,8,9]])"
      ],
      "execution_count": 76,
      "outputs": []
    },
    {
      "cell_type": "code",
      "metadata": {
        "id": "T5M-zNNrRip5"
      },
      "source": [
        "b3 = np.array([[1,2,3],[4,5,6],[7,8,9]])"
      ],
      "execution_count": 66,
      "outputs": []
    },
    {
      "cell_type": "code",
      "metadata": {
        "colab": {
          "base_uri": "https://localhost:8080/"
        },
        "id": "L28Wb9RyLOTa",
        "outputId": "3d51c8fc-3c78-45db-ee85-88110c511720"
      },
      "source": [
        "b1"
      ],
      "execution_count": 64,
      "outputs": [
        {
          "output_type": "execute_result",
          "data": {
            "text/plain": [
              "array([5, 6, 7, 8, 9])"
            ]
          },
          "metadata": {},
          "execution_count": 64
        }
      ]
    },
    {
      "cell_type": "code",
      "metadata": {
        "colab": {
          "base_uri": "https://localhost:8080/"
        },
        "id": "jGzV2V4URgzj",
        "outputId": "15e2089f-5b1c-40fc-d0d8-87aab695c0ce"
      },
      "source": [
        "b2"
      ],
      "execution_count": 65,
      "outputs": [
        {
          "output_type": "execute_result",
          "data": {
            "text/plain": [
              "array([4, 5, 6, 7, 8, 9])"
            ]
          },
          "metadata": {},
          "execution_count": 65
        }
      ]
    },
    {
      "cell_type": "code",
      "metadata": {
        "colab": {
          "base_uri": "https://localhost:8080/"
        },
        "id": "1qVYRCecRhJG",
        "outputId": "cc7127ff-7e14-4fb5-bc92-0f738a12ea0b"
      },
      "source": [
        "b3 #2D"
      ],
      "execution_count": 68,
      "outputs": [
        {
          "output_type": "execute_result",
          "data": {
            "text/plain": [
              "array([[1, 2, 3],\n",
              "       [4, 5, 6],\n",
              "       [7, 8, 9]])"
            ]
          },
          "metadata": {},
          "execution_count": 68
        }
      ]
    },
    {
      "cell_type": "code",
      "metadata": {
        "colab": {
          "base_uri": "https://localhost:8080/"
        },
        "id": "WJu-pXlBRpTf",
        "outputId": "6e664156-fe9f-4fa4-ffdd-2622ae09f174"
      },
      "source": [
        "b1.ndim #how many dimensions"
      ],
      "execution_count": 70,
      "outputs": [
        {
          "output_type": "execute_result",
          "data": {
            "text/plain": [
              "1"
            ]
          },
          "metadata": {},
          "execution_count": 70
        }
      ]
    },
    {
      "cell_type": "code",
      "metadata": {
        "colab": {
          "base_uri": "https://localhost:8080/"
        },
        "id": "Ycv2lEWgR4Yf",
        "outputId": "40dc4fdf-d771-4b92-ed78-33fb7d34eea3"
      },
      "source": [
        "b3.ndim"
      ],
      "execution_count": 71,
      "outputs": [
        {
          "output_type": "execute_result",
          "data": {
            "text/plain": [
              "2"
            ]
          },
          "metadata": {},
          "execution_count": 71
        }
      ]
    },
    {
      "cell_type": "code",
      "metadata": {
        "colab": {
          "base_uri": "https://localhost:8080/"
        },
        "id": "CYeKb8dNR7-m",
        "outputId": "b75b0727-3535-418f-a0f9-df2503b59470"
      },
      "source": [
        "b1.size #number of element"
      ],
      "execution_count": 72,
      "outputs": [
        {
          "output_type": "execute_result",
          "data": {
            "text/plain": [
              "5"
            ]
          },
          "metadata": {},
          "execution_count": 72
        }
      ]
    },
    {
      "cell_type": "code",
      "metadata": {
        "colab": {
          "base_uri": "https://localhost:8080/"
        },
        "id": "4hahbss0SKyb",
        "outputId": "0d06dc47-4d77-47ae-f3fe-200eb8b8534a"
      },
      "source": [
        "b3.size"
      ],
      "execution_count": 73,
      "outputs": [
        {
          "output_type": "execute_result",
          "data": {
            "text/plain": [
              "9"
            ]
          },
          "metadata": {},
          "execution_count": 73
        }
      ]
    },
    {
      "cell_type": "code",
      "metadata": {
        "colab": {
          "base_uri": "https://localhost:8080/"
        },
        "id": "_gxEYG5ISs3E",
        "outputId": "ad56dfd7-19b7-4199-cfc4-897f317e44c7"
      },
      "source": [
        "b3.shape #3X3 shape"
      ],
      "execution_count": 79,
      "outputs": [
        {
          "output_type": "execute_result",
          "data": {
            "text/plain": [
              "(3, 3)"
            ]
          },
          "metadata": {},
          "execution_count": 79
        }
      ]
    },
    {
      "cell_type": "code",
      "metadata": {
        "colab": {
          "base_uri": "https://localhost:8080/"
        },
        "id": "1RZcsxNaSsz4",
        "outputId": "49db7b2b-c77e-40b3-8a74-7abe48907998"
      },
      "source": [
        "b1.shape"
      ],
      "execution_count": 77,
      "outputs": [
        {
          "output_type": "execute_result",
          "data": {
            "text/plain": [
              "(5,)"
            ]
          },
          "metadata": {},
          "execution_count": 77
        }
      ]
    },
    {
      "cell_type": "code",
      "metadata": {
        "colab": {
          "base_uri": "https://localhost:8080/"
        },
        "id": "jER239TPSswH",
        "outputId": "5976fd12-5345-4cf1-bbae-f9cf9d071a2a"
      },
      "source": [
        "b2.shape"
      ],
      "execution_count": 78,
      "outputs": [
        {
          "output_type": "execute_result",
          "data": {
            "text/plain": [
              "(1, 6)"
            ]
          },
          "metadata": {},
          "execution_count": 78
        }
      ]
    },
    {
      "cell_type": "code",
      "metadata": {
        "colab": {
          "base_uri": "https://localhost:8080/"
        },
        "id": "EWaYMOECSslI",
        "outputId": "1a83560b-56ee-4147-d6d9-a52872931cc5"
      },
      "source": [
        "np.array([(2,3,4,5,6),(3,4,5,6,7)]) #list of tuples\n",
        "#converted into array'"
      ],
      "execution_count": 80,
      "outputs": [
        {
          "output_type": "execute_result",
          "data": {
            "text/plain": [
              "array([[2, 3, 4, 5, 6],\n",
              "       [3, 4, 5, 6, 7]])"
            ]
          },
          "metadata": {},
          "execution_count": 80
        }
      ]
    },
    {
      "cell_type": "code",
      "metadata": {
        "colab": {
          "base_uri": "https://localhost:8080/"
        },
        "id": "0fkn4IhoSsLC",
        "outputId": "36df5382-fd56-4fbc-d7c3-b18ddf8bdc83"
      },
      "source": [
        "range(3,10) #lower bound, upper bound"
      ],
      "execution_count": 81,
      "outputs": [
        {
          "output_type": "execute_result",
          "data": {
            "text/plain": [
              "range(3, 10)"
            ]
          },
          "metadata": {},
          "execution_count": 81
        }
      ]
    },
    {
      "cell_type": "code",
      "metadata": {
        "colab": {
          "base_uri": "https://localhost:8080/"
        },
        "id": "g4z8DoMITOs9",
        "outputId": "4a5cb380-13a8-45b5-af88-4623d2683f54"
      },
      "source": [
        "list(range(2,10))"
      ],
      "execution_count": 82,
      "outputs": [
        {
          "output_type": "execute_result",
          "data": {
            "text/plain": [
              "[2, 3, 4, 5, 6, 7, 8, 9]"
            ]
          },
          "metadata": {},
          "execution_count": 82
        }
      ]
    },
    {
      "cell_type": "code",
      "metadata": {
        "id": "pozVW3gPTchK"
      },
      "source": [
        "# list(range(2,3.3)) #this is not work for float values. only int values"
      ],
      "execution_count": 87,
      "outputs": []
    },
    {
      "cell_type": "code",
      "metadata": {
        "colab": {
          "base_uri": "https://localhost:8080/"
        },
        "id": "DAI6FV2ITcc_",
        "outputId": "bd7e051c-0588-4612-9dfe-9eec8940834d"
      },
      "source": [
        "#for float values like in range, use arange function\n",
        "list(np.arange(2,6.6,0.5)) #lower, upper, jump"
      ],
      "execution_count": 88,
      "outputs": [
        {
          "output_type": "execute_result",
          "data": {
            "text/plain": [
              "[2.0, 2.5, 3.0, 3.5, 4.0, 4.5, 5.0, 5.5, 6.0, 6.5]"
            ]
          },
          "metadata": {},
          "execution_count": 88
        }
      ]
    },
    {
      "cell_type": "code",
      "metadata": {
        "colab": {
          "base_uri": "https://localhost:8080/"
        },
        "id": "kTW-du0lTcYy",
        "outputId": "aa3bb2d2-3638-4554-d415-bed3e1692e3d"
      },
      "source": [
        "list(np.arange(12,6.6,-0.5))"
      ],
      "execution_count": 91,
      "outputs": [
        {
          "output_type": "execute_result",
          "data": {
            "text/plain": [
              "[12.0, 11.5, 11.0, 10.5, 10.0, 9.5, 9.0, 8.5, 8.0, 7.5, 7.0]"
            ]
          },
          "metadata": {},
          "execution_count": 91
        }
      ]
    },
    {
      "cell_type": "code",
      "metadata": {
        "colab": {
          "base_uri": "https://localhost:8080/"
        },
        "id": "Nkt3pN_rTcDL",
        "outputId": "a7900dc7-ec97-41ba-aaab-8a9a9f37d6c5"
      },
      "source": [
        "#custom number of data between a custom range\n",
        "np.linspace(2,5,num=20) "
      ],
      "execution_count": 96,
      "outputs": [
        {
          "output_type": "execute_result",
          "data": {
            "text/plain": [
              "array([2.        , 2.15789474, 2.31578947, 2.47368421, 2.63157895,\n",
              "       2.78947368, 2.94736842, 3.10526316, 3.26315789, 3.42105263,\n",
              "       3.57894737, 3.73684211, 3.89473684, 4.05263158, 4.21052632,\n",
              "       4.36842105, 4.52631579, 4.68421053, 4.84210526, 5.        ])"
            ]
          },
          "metadata": {},
          "execution_count": 96
        }
      ]
    },
    {
      "cell_type": "code",
      "metadata": {
        "colab": {
          "base_uri": "https://localhost:8080/"
        },
        "id": "0meXbh4PSqML",
        "outputId": "7832b336-99d0-4e98-b226-7226337b58c1"
      },
      "source": [
        "np.linspace(2,5,num=10) "
      ],
      "execution_count": 95,
      "outputs": [
        {
          "output_type": "execute_result",
          "data": {
            "text/plain": [
              "array([2.        , 2.33333333, 2.66666667, 3.        , 3.33333333,\n",
              "       3.66666667, 4.        , 4.33333333, 4.66666667, 5.        ])"
            ]
          },
          "metadata": {},
          "execution_count": 95
        }
      ]
    },
    {
      "cell_type": "code",
      "metadata": {
        "colab": {
          "base_uri": "https://localhost:8080/"
        },
        "id": "0Gvlfts4YmKa",
        "outputId": "5b553c99-a821-4463-a026-1e45a4668e75"
      },
      "source": [
        "np.linspace(3,5,num=5) #5 numbers between 3 to 5\n",
        "#include upper and lower bound also"
      ],
      "execution_count": 99,
      "outputs": [
        {
          "output_type": "execute_result",
          "data": {
            "text/plain": [
              "array([3. , 3.5, 4. , 4.5, 5. ])"
            ]
          },
          "metadata": {},
          "execution_count": 99
        }
      ]
    },
    {
      "cell_type": "code",
      "metadata": {
        "colab": {
          "base_uri": "https://localhost:8080/"
        },
        "id": "eUcueRTMY19X",
        "outputId": "93c1d3ff-4da8-4ab0-9fc8-42c81f678ed9"
      },
      "source": [
        "np.zeros(2)"
      ],
      "execution_count": 100,
      "outputs": [
        {
          "output_type": "execute_result",
          "data": {
            "text/plain": [
              "array([0., 0.])"
            ]
          },
          "metadata": {},
          "execution_count": 100
        }
      ]
    },
    {
      "cell_type": "code",
      "metadata": {
        "colab": {
          "base_uri": "https://localhost:8080/"
        },
        "id": "3j3AHUDDZQKd",
        "outputId": "20a38b30-b5b6-45c7-f4f0-bc16294fd8d5"
      },
      "source": [
        "np.zeros((3,3)) #input dimensions"
      ],
      "execution_count": 101,
      "outputs": [
        {
          "output_type": "execute_result",
          "data": {
            "text/plain": [
              "array([[0., 0., 0.],\n",
              "       [0., 0., 0.],\n",
              "       [0., 0., 0.]])"
            ]
          },
          "metadata": {},
          "execution_count": 101
        }
      ]
    },
    {
      "cell_type": "code",
      "metadata": {
        "colab": {
          "base_uri": "https://localhost:8080/"
        },
        "id": "4bVFfExlZSm1",
        "outputId": "d4d6d238-462d-435f-8e20-682aa7fc2ac9"
      },
      "source": [
        "np.zeros((1,2,3))"
      ],
      "execution_count": 102,
      "outputs": [
        {
          "output_type": "execute_result",
          "data": {
            "text/plain": [
              "array([[[0., 0., 0.],\n",
              "        [0., 0., 0.]]])"
            ]
          },
          "metadata": {},
          "execution_count": 102
        }
      ]
    },
    {
      "cell_type": "code",
      "metadata": {
        "id": "6NIfGJAuZVCc"
      },
      "source": [
        "b4 = np.zeros((2,2,3))"
      ],
      "execution_count": 103,
      "outputs": []
    },
    {
      "cell_type": "code",
      "metadata": {
        "colab": {
          "base_uri": "https://localhost:8080/"
        },
        "id": "urB9youJZU_m",
        "outputId": "144c3599-ffe7-4fd3-8dcf-11d2a23bbfb3"
      },
      "source": [
        "b4"
      ],
      "execution_count": 104,
      "outputs": [
        {
          "output_type": "execute_result",
          "data": {
            "text/plain": [
              "array([[[0., 0., 0.],\n",
              "        [0., 0., 0.]],\n",
              "\n",
              "       [[0., 0., 0.],\n",
              "        [0., 0., 0.]]])"
            ]
          },
          "metadata": {},
          "execution_count": 104
        }
      ]
    },
    {
      "cell_type": "code",
      "metadata": {
        "colab": {
          "base_uri": "https://localhost:8080/"
        },
        "id": "n0SMOYU9ZU8w",
        "outputId": "6586d6a9-a28d-4314-a965-532fd18072ff"
      },
      "source": [
        "b4.shape"
      ],
      "execution_count": 105,
      "outputs": [
        {
          "output_type": "execute_result",
          "data": {
            "text/plain": [
              "(2, 2, 3)"
            ]
          },
          "metadata": {},
          "execution_count": 105
        }
      ]
    },
    {
      "cell_type": "code",
      "metadata": {
        "colab": {
          "base_uri": "https://localhost:8080/"
        },
        "id": "1GxOMD2JZU6A",
        "outputId": "ab3add57-10ad-4629-898c-30b6688aeb84"
      },
      "source": [
        "b4.ndim"
      ],
      "execution_count": 106,
      "outputs": [
        {
          "output_type": "execute_result",
          "data": {
            "text/plain": [
              "3"
            ]
          },
          "metadata": {},
          "execution_count": 106
        }
      ]
    },
    {
      "cell_type": "code",
      "metadata": {
        "colab": {
          "base_uri": "https://localhost:8080/"
        },
        "id": "kLp1YmJIZU3P",
        "outputId": "1779867d-aff2-4df4-e91e-fe002265d8d5"
      },
      "source": [
        "b4.size"
      ],
      "execution_count": 107,
      "outputs": [
        {
          "output_type": "execute_result",
          "data": {
            "text/plain": [
              "12"
            ]
          },
          "metadata": {},
          "execution_count": 107
        }
      ]
    },
    {
      "cell_type": "code",
      "metadata": {
        "colab": {
          "base_uri": "https://localhost:8080/"
        },
        "id": "nWeA2bYnZU0R",
        "outputId": "d0e51182-0dae-45a5-a461-d5c1953a7fee"
      },
      "source": [
        "np.ones((2,2,4))"
      ],
      "execution_count": 108,
      "outputs": [
        {
          "output_type": "execute_result",
          "data": {
            "text/plain": [
              "array([[[1., 1., 1., 1.],\n",
              "        [1., 1., 1., 1.]],\n",
              "\n",
              "       [[1., 1., 1., 1.],\n",
              "        [1., 1., 1., 1.]]])"
            ]
          },
          "metadata": {},
          "execution_count": 108
        }
      ]
    },
    {
      "cell_type": "code",
      "metadata": {
        "colab": {
          "base_uri": "https://localhost:8080/"
        },
        "id": "zHUwdBQ-ZUxg",
        "outputId": "a98c6a95-9149-4b3e-eef8-a7dae8a3eb94"
      },
      "source": [
        "np.ones((3,3))"
      ],
      "execution_count": 109,
      "outputs": [
        {
          "output_type": "execute_result",
          "data": {
            "text/plain": [
              "array([[1., 1., 1.],\n",
              "       [1., 1., 1.],\n",
              "       [1., 1., 1.]])"
            ]
          },
          "metadata": {},
          "execution_count": 109
        }
      ]
    },
    {
      "cell_type": "code",
      "metadata": {
        "colab": {
          "base_uri": "https://localhost:8080/"
        },
        "id": "UBrlJC3tZUtj",
        "outputId": "a2fe76d6-cbb0-4918-eb1d-2f94f97efc41"
      },
      "source": [
        "np.ones((3,3)) + 10  #Adds 10 for every array"
      ],
      "execution_count": 110,
      "outputs": [
        {
          "output_type": "execute_result",
          "data": {
            "text/plain": [
              "array([[11., 11., 11.],\n",
              "       [11., 11., 11.],\n",
              "       [11., 11., 11.]])"
            ]
          },
          "metadata": {},
          "execution_count": 110
        }
      ]
    },
    {
      "cell_type": "code",
      "metadata": {
        "colab": {
          "base_uri": "https://localhost:8080/"
        },
        "id": "fBiGM3aeaKrH",
        "outputId": "333fb8e0-b069-4394-9ae7-e19529b31d00"
      },
      "source": [
        "np.empty(10)  #random elements"
      ],
      "execution_count": 111,
      "outputs": [
        {
          "output_type": "execute_result",
          "data": {
            "text/plain": [
              "array([2.        , 2.33333333, 2.66666667, 3.        , 3.33333333,\n",
              "       3.66666667, 4.        , 4.33333333, 4.66666667, 5.        ])"
            ]
          },
          "metadata": {},
          "execution_count": 111
        }
      ]
    },
    {
      "cell_type": "code",
      "metadata": {
        "colab": {
          "base_uri": "https://localhost:8080/"
        },
        "id": "sqGsTa71aKo7",
        "outputId": "333861b2-bc30-4d09-8b47-0abf9482db25"
      },
      "source": [
        "np.empty((3,5))"
      ],
      "execution_count": 112,
      "outputs": [
        {
          "output_type": "execute_result",
          "data": {
            "text/plain": [
              "array([[4.67686681e-310, 1.03977794e-312, 1.03977794e-312,\n",
              "        9.54898106e-313, 1.14587773e-312],\n",
              "       [1.03977794e-312, 1.23075756e-312, 1.06099790e-312,\n",
              "        1.01855798e-312, 9.76118064e-313],\n",
              "       [1.10343781e-312, 1.14587773e-312, 1.08221785e-312,\n",
              "        3.44981226e+175, 6.81019663e-310]])"
            ]
          },
          "metadata": {},
          "execution_count": 112
        }
      ]
    },
    {
      "cell_type": "code",
      "metadata": {
        "colab": {
          "base_uri": "https://localhost:8080/"
        },
        "id": "-9M-4IoAaKme",
        "outputId": "637ecd05-1590-4f56-d1f1-473b929d6008"
      },
      "source": [
        "#Identity Matrixes\n",
        "np.eye(4) "
      ],
      "execution_count": 114,
      "outputs": [
        {
          "output_type": "execute_result",
          "data": {
            "text/plain": [
              "array([[1., 0., 0., 0.],\n",
              "       [0., 1., 0., 0.],\n",
              "       [0., 0., 1., 0.],\n",
              "       [0., 0., 0., 1.]])"
            ]
          },
          "metadata": {},
          "execution_count": 114
        }
      ]
    },
    {
      "cell_type": "code",
      "metadata": {
        "colab": {
          "base_uri": "https://localhost:8080/"
        },
        "id": "vhajrzhPaKkD",
        "outputId": "e262c051-0994-4f50-b6c7-88259cb7d114"
      },
      "source": [
        "np.eye(4) + 10 "
      ],
      "execution_count": 115,
      "outputs": [
        {
          "output_type": "execute_result",
          "data": {
            "text/plain": [
              "array([[11., 10., 10., 10.],\n",
              "       [10., 11., 10., 10.],\n",
              "       [10., 10., 11., 10.],\n",
              "       [10., 10., 10., 11.]])"
            ]
          },
          "metadata": {},
          "execution_count": 115
        }
      ]
    },
    {
      "cell_type": "code",
      "metadata": {
        "colab": {
          "base_uri": "https://localhost:8080/"
        },
        "id": "YTAxm5GlaKfM",
        "outputId": "c960465e-d9c8-4b37-a809-1437b01fe78b"
      },
      "source": [
        "np.arange(16) + 20"
      ],
      "execution_count": 117,
      "outputs": [
        {
          "output_type": "execute_result",
          "data": {
            "text/plain": [
              "array([20, 21, 22, 23, 24, 25, 26, 27, 28, 29, 30, 31, 32, 33, 34, 35])"
            ]
          },
          "metadata": {},
          "execution_count": 117
        }
      ]
    },
    {
      "cell_type": "code",
      "metadata": {
        "colab": {
          "base_uri": "https://localhost:8080/"
        },
        "id": "yTh7gKBEaKa_",
        "outputId": "8c4b8e84-29d4-42e8-dc20-c96fe35ec515"
      },
      "source": [
        "np.arange(16)"
      ],
      "execution_count": 118,
      "outputs": [
        {
          "output_type": "execute_result",
          "data": {
            "text/plain": [
              "array([ 0,  1,  2,  3,  4,  5,  6,  7,  8,  9, 10, 11, 12, 13, 14, 15])"
            ]
          },
          "metadata": {},
          "execution_count": 118
        }
      ]
    },
    {
      "cell_type": "code",
      "metadata": {
        "colab": {
          "base_uri": "https://localhost:8080/"
        },
        "id": "S1XBOnh4aKUR",
        "outputId": "ecb7e700-1dee-4693-8dfe-373027a38f39"
      },
      "source": [
        "#Reshaping\n",
        "np.arange(16).reshape(4,4)  #4*4 = 16 elements, this 16 should match"
      ],
      "execution_count": 120,
      "outputs": [
        {
          "output_type": "execute_result",
          "data": {
            "text/plain": [
              "array([[ 0,  1,  2,  3],\n",
              "       [ 4,  5,  6,  7],\n",
              "       [ 8,  9, 10, 11],\n",
              "       [12, 13, 14, 15]])"
            ]
          },
          "metadata": {},
          "execution_count": 120
        }
      ]
    },
    {
      "cell_type": "code",
      "metadata": {
        "colab": {
          "base_uri": "https://localhost:8080/"
        },
        "id": "2X0yXiNGaJ9U",
        "outputId": "0d3e66a9-b152-4cc0-8505-9cc6376389c5"
      },
      "source": [
        "np.arange(16).reshape(2,8)"
      ],
      "execution_count": 121,
      "outputs": [
        {
          "output_type": "execute_result",
          "data": {
            "text/plain": [
              "array([[ 0,  1,  2,  3,  4,  5,  6,  7],\n",
              "       [ 8,  9, 10, 11, 12, 13, 14, 15]])"
            ]
          },
          "metadata": {},
          "execution_count": 121
        }
      ]
    },
    {
      "cell_type": "code",
      "metadata": {
        "colab": {
          "base_uri": "https://localhost:8080/"
        },
        "id": "Pt9Ti_dzZUpy",
        "outputId": "e9d6005c-6a25-4f38-8711-66ce78845d25"
      },
      "source": [
        "np.arange(16).reshape(8,2)"
      ],
      "execution_count": 122,
      "outputs": [
        {
          "output_type": "execute_result",
          "data": {
            "text/plain": [
              "array([[ 0,  1],\n",
              "       [ 2,  3],\n",
              "       [ 4,  5],\n",
              "       [ 6,  7],\n",
              "       [ 8,  9],\n",
              "       [10, 11],\n",
              "       [12, 13],\n",
              "       [14, 15]])"
            ]
          },
          "metadata": {},
          "execution_count": 122
        }
      ]
    },
    {
      "cell_type": "code",
      "metadata": {
        "colab": {
          "base_uri": "https://localhost:8080/"
        },
        "id": "nn98m5-Za9qj",
        "outputId": "e3e47346-2d86-4c1e-b577-023726d38099"
      },
      "source": [
        "np.arange(16).reshape(16,1) #(row,column)"
      ],
      "execution_count": 123,
      "outputs": [
        {
          "output_type": "execute_result",
          "data": {
            "text/plain": [
              "array([[ 0],\n",
              "       [ 1],\n",
              "       [ 2],\n",
              "       [ 3],\n",
              "       [ 4],\n",
              "       [ 5],\n",
              "       [ 6],\n",
              "       [ 7],\n",
              "       [ 8],\n",
              "       [ 9],\n",
              "       [10],\n",
              "       [11],\n",
              "       [12],\n",
              "       [13],\n",
              "       [14],\n",
              "       [15]])"
            ]
          },
          "metadata": {},
          "execution_count": 123
        }
      ]
    },
    {
      "cell_type": "code",
      "metadata": {
        "colab": {
          "base_uri": "https://localhost:8080/"
        },
        "id": "xaElvn3Xa9na",
        "outputId": "54a05c9b-c0be-4c8a-fcd5-341102494f0c"
      },
      "source": [
        "np.arange(16).reshape(2,4,2)"
      ],
      "execution_count": 124,
      "outputs": [
        {
          "output_type": "execute_result",
          "data": {
            "text/plain": [
              "array([[[ 0,  1],\n",
              "        [ 2,  3],\n",
              "        [ 4,  5],\n",
              "        [ 6,  7]],\n",
              "\n",
              "       [[ 8,  9],\n",
              "        [10, 11],\n",
              "        [12, 13],\n",
              "        [14, 15]]])"
            ]
          },
          "metadata": {},
          "execution_count": 124
        }
      ]
    },
    {
      "cell_type": "code",
      "metadata": {
        "colab": {
          "base_uri": "https://localhost:8080/"
        },
        "id": "9KvQsEMPa9i0",
        "outputId": "5bf32be4-674f-4388-c6fe-04d220986dec"
      },
      "source": [
        "np.arange(16).reshape((2,-1))  #(2,8)"
      ],
      "execution_count": 125,
      "outputs": [
        {
          "output_type": "execute_result",
          "data": {
            "text/plain": [
              "array([[ 0,  1,  2,  3,  4,  5,  6,  7],\n",
              "       [ 8,  9, 10, 11, 12, 13, 14, 15]])"
            ]
          },
          "metadata": {},
          "execution_count": 125
        }
      ]
    },
    {
      "cell_type": "code",
      "metadata": {
        "colab": {
          "base_uri": "https://localhost:8080/"
        },
        "id": "yskdGHR9a9ff",
        "outputId": "711a38eb-8cda-4c6d-b031-86a3fc7a928e"
      },
      "source": [
        "np.arange(16).reshape((2,-155))  #any negative number   2D"
      ],
      "execution_count": 128,
      "outputs": [
        {
          "output_type": "execute_result",
          "data": {
            "text/plain": [
              "array([[ 0,  1,  2,  3,  4,  5,  6,  7],\n",
              "       [ 8,  9, 10, 11, 12, 13, 14, 15]])"
            ]
          },
          "metadata": {},
          "execution_count": 128
        }
      ]
    },
    {
      "cell_type": "code",
      "metadata": {
        "colab": {
          "base_uri": "https://localhost:8080/"
        },
        "id": "KryHv_FTa9cN",
        "outputId": "5921c4de-780a-45ee-e856-d72b03442e05"
      },
      "source": [
        "np.arange(16).reshape((2,-344,2)) # -344 will be understood as 4 which is remaing shape"
      ],
      "execution_count": 129,
      "outputs": [
        {
          "output_type": "execute_result",
          "data": {
            "text/plain": [
              "array([[[ 0,  1],\n",
              "        [ 2,  3],\n",
              "        [ 4,  5],\n",
              "        [ 6,  7]],\n",
              "\n",
              "       [[ 8,  9],\n",
              "        [10, 11],\n",
              "        [12, 13],\n",
              "        [14, 15]]])"
            ]
          },
          "metadata": {},
          "execution_count": 129
        }
      ]
    },
    {
      "cell_type": "code",
      "metadata": {
        "colab": {
          "base_uri": "https://localhost:8080/"
        },
        "id": "MTDfuBhVa9Ww",
        "outputId": "35dc7630-e50e-4238-8e3c-6ec59b0a750a"
      },
      "source": [
        "np.random.rand(2,3)  #row, col"
      ],
      "execution_count": 130,
      "outputs": [
        {
          "output_type": "execute_result",
          "data": {
            "text/plain": [
              "array([[0.13798622, 0.95830059, 0.0436827 ],\n",
              "       [0.24486478, 0.27498901, 0.16904666]])"
            ]
          },
          "metadata": {},
          "execution_count": 130
        }
      ]
    },
    {
      "cell_type": "code",
      "metadata": {
        "colab": {
          "base_uri": "https://localhost:8080/"
        },
        "id": "a8nAJrF7ckUx",
        "outputId": "f4e6edc3-ab9e-4d54-fc16-37e81a4d0597"
      },
      "source": [
        "np.random.rand(10)  #uniform distribution"
      ],
      "execution_count": 131,
      "outputs": [
        {
          "output_type": "execute_result",
          "data": {
            "text/plain": [
              "array([0.83543493, 0.32217281, 0.58209541, 0.01028912, 0.76820571,\n",
              "       0.87367822, 0.24268878, 0.77630422, 0.52624799, 0.76684865])"
            ]
          },
          "metadata": {},
          "execution_count": 131
        }
      ]
    },
    {
      "cell_type": "code",
      "metadata": {
        "colab": {
          "base_uri": "https://localhost:8080/"
        },
        "id": "tWLywtA0ckRr",
        "outputId": "86a5a201-c0a5-41ce-e9e4-935d0e870ba5"
      },
      "source": [
        "np.random.randn(10)  "
      ],
      "execution_count": 133,
      "outputs": [
        {
          "output_type": "execute_result",
          "data": {
            "text/plain": [
              "array([ 1.87512962,  0.35964809,  0.86760338,  0.34418856,  0.44510406,\n",
              "       -1.42538947,  1.06959377,  0.4015352 , -1.54598745, -0.22377181])"
            ]
          },
          "metadata": {},
          "execution_count": 133
        }
      ]
    },
    {
      "cell_type": "code",
      "metadata": {
        "colab": {
          "base_uri": "https://localhost:8080/"
        },
        "id": "_rOH5VpCckMp",
        "outputId": "64784636-1b65-4d6d-fc6b-824d31afd2b3"
      },
      "source": [
        "np.random.randn(2,3) #standard normal distribution mean = 0, std =1"
      ],
      "execution_count": 135,
      "outputs": [
        {
          "output_type": "execute_result",
          "data": {
            "text/plain": [
              "array([[-0.23873132, -0.45211287,  0.14319904],\n",
              "       [ 0.21851935, -0.54353403,  2.77249982]])"
            ]
          },
          "metadata": {},
          "execution_count": 135
        }
      ]
    },
    {
      "cell_type": "code",
      "metadata": {
        "colab": {
          "base_uri": "https://localhost:8080/"
        },
        "id": "6CgGC8ZockJN",
        "outputId": "7608c096-97cc-42b8-8401-a14f1b90941d"
      },
      "source": [
        "np.random.randint(1,5) #a random value between the range"
      ],
      "execution_count": 140,
      "outputs": [
        {
          "output_type": "execute_result",
          "data": {
            "text/plain": [
              "4"
            ]
          },
          "metadata": {},
          "execution_count": 140
        }
      ]
    },
    {
      "cell_type": "code",
      "metadata": {
        "colab": {
          "base_uri": "https://localhost:8080/"
        },
        "id": "VFkGWYzockB8",
        "outputId": "260f0145-890f-4693-fd35-fcf72edeccd4"
      },
      "source": [
        "np.random.randint(1,5,(4,3)) #range=(1,5),shape=(4,3)"
      ],
      "execution_count": 143,
      "outputs": [
        {
          "output_type": "execute_result",
          "data": {
            "text/plain": [
              "array([[2, 2, 4],\n",
              "       [3, 1, 3],\n",
              "       [2, 1, 3],\n",
              "       [4, 1, 2]])"
            ]
          },
          "metadata": {},
          "execution_count": 143
        }
      ]
    },
    {
      "cell_type": "code",
      "metadata": {
        "colab": {
          "base_uri": "https://localhost:8080/"
        },
        "id": "rhqRSnHId9Ae",
        "outputId": "9e232d68-0249-4dc6-fa92-e49c5f13de5b"
      },
      "source": [
        "#getting same random number  #fix the random values with same seed value\n",
        "np.random.seed(42)\n",
        "np.random.randn(10)"
      ],
      "execution_count": 145,
      "outputs": [
        {
          "output_type": "execute_result",
          "data": {
            "text/plain": [
              "array([ 0.49671415, -0.1382643 ,  0.64768854,  1.52302986, -0.23415337,\n",
              "       -0.23413696,  1.57921282,  0.76743473, -0.46947439,  0.54256004])"
            ]
          },
          "metadata": {},
          "execution_count": 145
        }
      ]
    },
    {
      "cell_type": "code",
      "metadata": {
        "colab": {
          "base_uri": "https://localhost:8080/"
        },
        "id": "Nab_ByUGd89a",
        "outputId": "e9f78b24-b802-4137-9955-1661d568dae4"
      },
      "source": [
        "np.random.seed(42)   #similar to randomstate in ml models\n",
        "np.random.randn(10)"
      ],
      "execution_count": 147,
      "outputs": [
        {
          "output_type": "execute_result",
          "data": {
            "text/plain": [
              "array([ 0.49671415, -0.1382643 ,  0.64768854,  1.52302986, -0.23415337,\n",
              "       -0.23413696,  1.57921282,  0.76743473, -0.46947439,  0.54256004])"
            ]
          },
          "metadata": {},
          "execution_count": 147
        }
      ]
    },
    {
      "cell_type": "code",
      "metadata": {
        "id": "B1fMBsm_d860"
      },
      "source": [
        "#row wise sorting\n",
        "b5 = np.random.randint(2,6,(3,4))"
      ],
      "execution_count": 164,
      "outputs": []
    },
    {
      "cell_type": "code",
      "metadata": {
        "colab": {
          "base_uri": "https://localhost:8080/"
        },
        "id": "XAg7-9jEvB81",
        "outputId": "f71751b9-a9d0-4a42-a6f6-1e14fb83c8cb"
      },
      "source": [
        "b5"
      ],
      "execution_count": 165,
      "outputs": [
        {
          "output_type": "execute_result",
          "data": {
            "text/plain": [
              "array([[5, 3, 4, 3],\n",
              "       [2, 5, 3, 5],\n",
              "       [3, 4, 5, 2]])"
            ]
          },
          "metadata": {},
          "execution_count": 165
        }
      ]
    },
    {
      "cell_type": "code",
      "metadata": {
        "colab": {
          "base_uri": "https://localhost:8080/"
        },
        "id": "Lgp62z6bd82x",
        "outputId": "c12e4ae9-7a47-43f9-f0b3-351d31004a0c"
      },
      "source": [
        "np.sort(b5)  #row wise sorting"
      ],
      "execution_count": 160,
      "outputs": [
        {
          "output_type": "execute_result",
          "data": {
            "text/plain": [
              "array([[3, 4, 5, 5],\n",
              "       [2, 2, 4, 5],\n",
              "       [2, 3, 4, 5]])"
            ]
          },
          "metadata": {},
          "execution_count": 160
        }
      ]
    },
    {
      "cell_type": "code",
      "metadata": {
        "colab": {
          "base_uri": "https://localhost:8080/"
        },
        "id": "-QMCpgWad8rc",
        "outputId": "00d988c9-8d91-4def-ab82-50566419a8f4"
      },
      "source": [
        "#Column wise sorting not working\n",
        "np.sort(b5,axis=1)"
      ],
      "execution_count": 163,
      "outputs": [
        {
          "output_type": "execute_result",
          "data": {
            "text/plain": [
              "array([[3, 4, 5, 5],\n",
              "       [2, 2, 4, 5],\n",
              "       [2, 3, 4, 5]])"
            ]
          },
          "metadata": {},
          "execution_count": 163
        }
      ]
    },
    {
      "cell_type": "code",
      "metadata": {
        "id": "Q8xyCsQ3cjbi"
      },
      "source": [
        "b6 = np.random.randint(2,10,(3,3))"
      ],
      "execution_count": 166,
      "outputs": []
    },
    {
      "cell_type": "code",
      "metadata": {
        "colab": {
          "base_uri": "https://localhost:8080/"
        },
        "id": "TBjbiSEyvSJP",
        "outputId": "6f134e6b-5d82-4e68-af42-f6d8587c744b"
      },
      "source": [
        "b6"
      ],
      "execution_count": 168,
      "outputs": [
        {
          "output_type": "execute_result",
          "data": {
            "text/plain": [
              "array([[4, 4, 4],\n",
              "       [6, 4, 6],\n",
              "       [6, 3, 7]])"
            ]
          },
          "metadata": {},
          "execution_count": 168
        }
      ]
    },
    {
      "cell_type": "code",
      "metadata": {
        "colab": {
          "base_uri": "https://localhost:8080/"
        },
        "id": "VyzOVL61vSL7",
        "outputId": "edb62168-75b5-419a-b42f-e5732fb70b09"
      },
      "source": [
        "np.sort(b6,axis=1)"
      ],
      "execution_count": 171,
      "outputs": [
        {
          "output_type": "execute_result",
          "data": {
            "text/plain": [
              "array([[4, 4, 4],\n",
              "       [4, 6, 6],\n",
              "       [3, 6, 7]])"
            ]
          },
          "metadata": {},
          "execution_count": 171
        }
      ]
    },
    {
      "cell_type": "code",
      "metadata": {
        "colab": {
          "base_uri": "https://localhost:8080/"
        },
        "id": "RBhZ7AxdvSF1",
        "outputId": "48cb6c2e-bb66-4723-e585-8a8519b5c3a6"
      },
      "source": [
        "np.sort(b6)"
      ],
      "execution_count": 172,
      "outputs": [
        {
          "output_type": "execute_result",
          "data": {
            "text/plain": [
              "array([[4, 4, 4],\n",
              "       [4, 6, 6],\n",
              "       [3, 6, 7]])"
            ]
          },
          "metadata": {},
          "execution_count": 172
        }
      ]
    },
    {
      "cell_type": "code",
      "metadata": {
        "colab": {
          "base_uri": "https://localhost:8080/"
        },
        "id": "K6TGCtBrvSCj",
        "outputId": "8ea7c5ad-a293-40b3-eb37-5f1781cc9232"
      },
      "source": [
        "np.sort(b6,axis=0)"
      ],
      "execution_count": 174,
      "outputs": [
        {
          "output_type": "execute_result",
          "data": {
            "text/plain": [
              "array([[4, 3, 4],\n",
              "       [6, 4, 6],\n",
              "       [6, 4, 7]])"
            ]
          },
          "metadata": {},
          "execution_count": 174
        }
      ]
    },
    {
      "cell_type": "code",
      "metadata": {
        "colab": {
          "base_uri": "https://localhost:8080/"
        },
        "id": "LHnSZ7zbvR_C",
        "outputId": "c6531a04-831a-43f2-d76b-f8122702f305"
      },
      "source": [
        "np.sort(b6,axis=1,kind='mergesort')"
      ],
      "execution_count": 175,
      "outputs": [
        {
          "output_type": "execute_result",
          "data": {
            "text/plain": [
              "array([[4, 4, 4],\n",
              "       [4, 6, 6],\n",
              "       [3, 6, 7]])"
            ]
          },
          "metadata": {},
          "execution_count": 175
        }
      ]
    },
    {
      "cell_type": "code",
      "metadata": {
        "colab": {
          "base_uri": "https://localhost:8080/"
        },
        "id": "h_6qHYopvRlc",
        "outputId": "a9c0e76c-d3ae-4d31-d435-e4fb6d804bca"
      },
      "source": [
        "np.sort(b6,axis=1,kind='quicksort')"
      ],
      "execution_count": 176,
      "outputs": [
        {
          "output_type": "execute_result",
          "data": {
            "text/plain": [
              "array([[4, 4, 4],\n",
              "       [4, 6, 6],\n",
              "       [3, 6, 7]])"
            ]
          },
          "metadata": {},
          "execution_count": 176
        }
      ]
    },
    {
      "cell_type": "code",
      "metadata": {
        "colab": {
          "base_uri": "https://localhost:8080/"
        },
        "id": "YW1bWB5GwTIO",
        "outputId": "18ef72a4-cb7c-4469-adcb-30e9eae8bb61"
      },
      "source": [
        "b6"
      ],
      "execution_count": 177,
      "outputs": [
        {
          "output_type": "execute_result",
          "data": {
            "text/plain": [
              "array([[4, 4, 4],\n",
              "       [6, 4, 6],\n",
              "       [6, 3, 7]])"
            ]
          },
          "metadata": {},
          "execution_count": 177
        }
      ]
    },
    {
      "cell_type": "code",
      "metadata": {
        "colab": {
          "base_uri": "https://localhost:8080/"
        },
        "id": "ELPycD5swTF8",
        "outputId": "c28bcaf3-c736-4cf0-b8b8-b744d350fac0"
      },
      "source": [
        "b6.max()"
      ],
      "execution_count": 178,
      "outputs": [
        {
          "output_type": "execute_result",
          "data": {
            "text/plain": [
              "7"
            ]
          },
          "metadata": {},
          "execution_count": 178
        }
      ]
    },
    {
      "cell_type": "code",
      "metadata": {
        "colab": {
          "base_uri": "https://localhost:8080/"
        },
        "id": "ciQIvCiAwTDQ",
        "outputId": "1f0d93ca-d6d0-47ae-db09-e730f05019e7"
      },
      "source": [
        "b6[2][2]"
      ],
      "execution_count": 179,
      "outputs": [
        {
          "output_type": "execute_result",
          "data": {
            "text/plain": [
              "7"
            ]
          },
          "metadata": {},
          "execution_count": 179
        }
      ]
    },
    {
      "cell_type": "code",
      "metadata": {
        "colab": {
          "base_uri": "https://localhost:8080/"
        },
        "id": "aQS_2fzawTBB",
        "outputId": "0cd37f38-1607-47d6-e536-66b1077405c9"
      },
      "source": [
        "b6[1][2]"
      ],
      "execution_count": 180,
      "outputs": [
        {
          "output_type": "execute_result",
          "data": {
            "text/plain": [
              "6"
            ]
          },
          "metadata": {},
          "execution_count": 180
        }
      ]
    },
    {
      "cell_type": "code",
      "metadata": {
        "colab": {
          "base_uri": "https://localhost:8080/"
        },
        "id": "htU6vUfuwS56",
        "outputId": "691eae61-2c07-4373-8e98-24cf1f0637d3"
      },
      "source": [
        "b6[1]"
      ],
      "execution_count": 181,
      "outputs": [
        {
          "output_type": "execute_result",
          "data": {
            "text/plain": [
              "array([6, 4, 6])"
            ]
          },
          "metadata": {},
          "execution_count": 181
        }
      ]
    },
    {
      "cell_type": "code",
      "metadata": {
        "colab": {
          "base_uri": "https://localhost:8080/"
        },
        "id": "zb2mwgMawlvT",
        "outputId": "ebaa3880-b43f-4458-dcfb-6b88f16fea17"
      },
      "source": [
        "b6[0:2]"
      ],
      "execution_count": 182,
      "outputs": [
        {
          "output_type": "execute_result",
          "data": {
            "text/plain": [
              "array([[4, 4, 4],\n",
              "       [6, 4, 6]])"
            ]
          },
          "metadata": {},
          "execution_count": 182
        }
      ]
    },
    {
      "cell_type": "code",
      "metadata": {
        "colab": {
          "base_uri": "https://localhost:8080/"
        },
        "id": "W6HGB556wlsH",
        "outputId": "d3ca4103-69f6-43b4-b547-e1bf77b5035c"
      },
      "source": [
        "b6[2:0:-1]"
      ],
      "execution_count": 184,
      "outputs": [
        {
          "output_type": "execute_result",
          "data": {
            "text/plain": [
              "array([[6, 3, 7],\n",
              "       [6, 4, 6]])"
            ]
          },
          "metadata": {},
          "execution_count": 184
        }
      ]
    },
    {
      "cell_type": "code",
      "metadata": {
        "id": "UWKHdOhZwlor"
      },
      "source": [
        "b7 = np.random.randint(3,7,(6,6))"
      ],
      "execution_count": 186,
      "outputs": []
    },
    {
      "cell_type": "code",
      "metadata": {
        "colab": {
          "base_uri": "https://localhost:8080/"
        },
        "id": "126_nhAVwlkw",
        "outputId": "e39c1730-69c6-441a-87f0-3c3434e31f79"
      },
      "source": [
        "b7"
      ],
      "execution_count": 187,
      "outputs": [
        {
          "output_type": "execute_result",
          "data": {
            "text/plain": [
              "array([[4, 5, 4, 6, 5, 6],\n",
              "       [3, 5, 4, 3, 4, 5],\n",
              "       [6, 3, 6, 5, 5, 5],\n",
              "       [3, 5, 4, 5, 3, 6],\n",
              "       [5, 4, 5, 6, 4, 5],\n",
              "       [4, 3, 6, 6, 6, 4]])"
            ]
          },
          "metadata": {},
          "execution_count": 187
        }
      ]
    },
    {
      "cell_type": "code",
      "metadata": {
        "colab": {
          "base_uri": "https://localhost:8080/"
        },
        "id": "agqHy2kxwlgn",
        "outputId": "d9a8fa1b-244e-401b-ad06-2f00b2dc4794"
      },
      "source": [
        "b7[3]"
      ],
      "execution_count": 188,
      "outputs": [
        {
          "output_type": "execute_result",
          "data": {
            "text/plain": [
              "array([3, 5, 4, 5, 3, 6])"
            ]
          },
          "metadata": {},
          "execution_count": 188
        }
      ]
    },
    {
      "cell_type": "code",
      "metadata": {
        "colab": {
          "base_uri": "https://localhost:8080/"
        },
        "id": "AUOJ18TSwldD",
        "outputId": "bf89b41b-4ce9-4c13-fc90-9293b0ae2d1c"
      },
      "source": [
        "b7[2:5]  #gives 2,3,4 indexes"
      ],
      "execution_count": 189,
      "outputs": [
        {
          "output_type": "execute_result",
          "data": {
            "text/plain": [
              "array([[6, 3, 6, 5, 5, 5],\n",
              "       [3, 5, 4, 5, 3, 6],\n",
              "       [5, 4, 5, 6, 4, 5]])"
            ]
          },
          "metadata": {},
          "execution_count": 189
        }
      ]
    },
    {
      "cell_type": "code",
      "metadata": {
        "colab": {
          "base_uri": "https://localhost:8080/"
        },
        "id": "k-4nescWwS2g",
        "outputId": "60621c30-3220-46b4-9e08-c38ddcad2746"
      },
      "source": [
        "b7[2:6:2]   #last 2 is the jump"
      ],
      "execution_count": 190,
      "outputs": [
        {
          "output_type": "execute_result",
          "data": {
            "text/plain": [
              "array([[6, 3, 6, 5, 5, 5],\n",
              "       [5, 4, 5, 6, 4, 5]])"
            ]
          },
          "metadata": {},
          "execution_count": 190
        }
      ]
    },
    {
      "cell_type": "code",
      "metadata": {
        "colab": {
          "base_uri": "https://localhost:8080/"
        },
        "id": "oYSw5NzcwSyz",
        "outputId": "99ce0c18-07f7-4263-c6a3-58449a75ae7a"
      },
      "source": [
        "b7[2:5,2:4]  #row range, column range slicing"
      ],
      "execution_count": 191,
      "outputs": [
        {
          "output_type": "execute_result",
          "data": {
            "text/plain": [
              "array([[6, 5],\n",
              "       [4, 5],\n",
              "       [5, 6]])"
            ]
          },
          "metadata": {},
          "execution_count": 191
        }
      ]
    },
    {
      "cell_type": "code",
      "metadata": {
        "id": "TLSsgRTJa9Sx"
      },
      "source": [
        "b8 = np.random.randint(3,6,(3,4))"
      ],
      "execution_count": 194,
      "outputs": []
    },
    {
      "cell_type": "code",
      "metadata": {
        "id": "2uM8-VUIxtUA"
      },
      "source": [
        "b9 = np.random.randint(3,8,(3,4))"
      ],
      "execution_count": 195,
      "outputs": []
    },
    {
      "cell_type": "code",
      "metadata": {
        "colab": {
          "base_uri": "https://localhost:8080/"
        },
        "id": "4tmejlbvx_j3",
        "outputId": "d7482f9c-de0d-4d50-a580-49addd163446"
      },
      "source": [
        "b8"
      ],
      "execution_count": 198,
      "outputs": [
        {
          "output_type": "execute_result",
          "data": {
            "text/plain": [
              "array([[3, 3, 5, 5],\n",
              "       [5, 5, 5, 4],\n",
              "       [3, 3, 4, 3]])"
            ]
          },
          "metadata": {},
          "execution_count": 198
        }
      ]
    },
    {
      "cell_type": "code",
      "metadata": {
        "colab": {
          "base_uri": "https://localhost:8080/"
        },
        "id": "U6OPmuiPyBGg",
        "outputId": "da2156cf-4b7f-4def-fab2-eaf0d3b88be8"
      },
      "source": [
        "b9"
      ],
      "execution_count": 199,
      "outputs": [
        {
          "output_type": "execute_result",
          "data": {
            "text/plain": [
              "array([[3, 4, 4, 5],\n",
              "       [4, 5, 3, 7],\n",
              "       [3, 3, 3, 5]])"
            ]
          },
          "metadata": {},
          "execution_count": 199
        }
      ]
    },
    {
      "cell_type": "code",
      "metadata": {
        "colab": {
          "base_uri": "https://localhost:8080/"
        },
        "id": "IId_tc_ixwSo",
        "outputId": "5ecf36a5-3d65-4855-ce40-d18ef836876b"
      },
      "source": [
        "b8/0  #infinity = inf"
      ],
      "execution_count": 196,
      "outputs": [
        {
          "output_type": "stream",
          "name": "stderr",
          "text": [
            "/usr/local/lib/python3.7/dist-packages/ipykernel_launcher.py:1: RuntimeWarning: divide by zero encountered in true_divide\n",
            "  \"\"\"Entry point for launching an IPython kernel.\n"
          ]
        },
        {
          "output_type": "execute_result",
          "data": {
            "text/plain": [
              "array([[inf, inf, inf, inf],\n",
              "       [inf, inf, inf, inf],\n",
              "       [inf, inf, inf, inf]])"
            ]
          },
          "metadata": {},
          "execution_count": 196
        }
      ]
    },
    {
      "cell_type": "code",
      "metadata": {
        "colab": {
          "base_uri": "https://localhost:8080/"
        },
        "id": "hS2HSf9ix3Ln",
        "outputId": "f38af2b3-b5ed-4a11-8d08-a7c269356df0"
      },
      "source": [
        "b8/b9"
      ],
      "execution_count": 197,
      "outputs": [
        {
          "output_type": "execute_result",
          "data": {
            "text/plain": [
              "array([[1.        , 0.75      , 1.25      , 1.        ],\n",
              "       [1.25      , 1.        , 1.66666667, 0.57142857],\n",
              "       [1.        , 1.        , 1.33333333, 0.6       ]])"
            ]
          },
          "metadata": {},
          "execution_count": 197
        }
      ]
    },
    {
      "cell_type": "code",
      "metadata": {
        "colab": {
          "base_uri": "https://localhost:8080/"
        },
        "id": "Wgq9D5xax3JC",
        "outputId": "c4298228-7100-40c7-b143-6bfee514acfa"
      },
      "source": [
        "b8*b9"
      ],
      "execution_count": 200,
      "outputs": [
        {
          "output_type": "execute_result",
          "data": {
            "text/plain": [
              "array([[ 9, 12, 20, 25],\n",
              "       [20, 25, 15, 28],\n",
              "       [ 9,  9, 12, 15]])"
            ]
          },
          "metadata": {},
          "execution_count": 200
        }
      ]
    },
    {
      "cell_type": "code",
      "metadata": {
        "id": "stTQq58Nx3FD"
      },
      "source": [
        "b10 = np.random.randint(3,6,(3,3))"
      ],
      "execution_count": 201,
      "outputs": []
    },
    {
      "cell_type": "code",
      "metadata": {
        "colab": {
          "base_uri": "https://localhost:8080/"
        },
        "id": "Lthqihlwx2_x",
        "outputId": "361c0999-f519-4e93-c67e-1620e0431c9e"
      },
      "source": [
        "b10"
      ],
      "execution_count": 202,
      "outputs": [
        {
          "output_type": "execute_result",
          "data": {
            "text/plain": [
              "array([[5, 5, 3],\n",
              "       [3, 5, 4],\n",
              "       [3, 3, 5]])"
            ]
          },
          "metadata": {},
          "execution_count": 202
        }
      ]
    },
    {
      "cell_type": "code",
      "metadata": {
        "id": "tjqlElRkyXPE"
      },
      "source": [
        "#if number of elements are not same, it will give error\n",
        "#element wise multiplication\n",
        "#b9/b10"
      ],
      "execution_count": 204,
      "outputs": []
    },
    {
      "cell_type": "code",
      "metadata": {
        "colab": {
          "base_uri": "https://localhost:8080/"
        },
        "id": "ZXIOgn3NyXMP",
        "outputId": "fdfd085d-6db4-4e59-c952-46d37c45a8c0"
      },
      "source": [
        "#matrix multiplication\n",
        "b8.T@b9"
      ],
      "execution_count": 207,
      "outputs": [
        {
          "output_type": "execute_result",
          "data": {
            "text/plain": [
              "array([[38, 46, 36, 65],\n",
              "       [38, 46, 36, 65],\n",
              "       [47, 57, 47, 80],\n",
              "       [40, 49, 41, 68]])"
            ]
          },
          "metadata": {},
          "execution_count": 207
        }
      ]
    },
    {
      "cell_type": "code",
      "metadata": {
        "colab": {
          "base_uri": "https://localhost:8080/"
        },
        "id": "76h3mKEhyXJX",
        "outputId": "1d423393-239a-49ed-93f2-7403e5ac1c31"
      },
      "source": [
        "b8 ** 3"
      ],
      "execution_count": 208,
      "outputs": [
        {
          "output_type": "execute_result",
          "data": {
            "text/plain": [
              "array([[ 27,  27, 125, 125],\n",
              "       [125, 125, 125,  64],\n",
              "       [ 27,  27,  64,  27]])"
            ]
          },
          "metadata": {},
          "execution_count": 208
        }
      ]
    }
  ]
}